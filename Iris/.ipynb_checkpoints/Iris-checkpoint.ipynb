{
 "cells": [
  {
   "cell_type": "code",
   "execution_count": 93,
   "metadata": {},
   "outputs": [],
   "source": [
    "import numpy as np\n",
    "import matplotlib.pyplot as plt\n",
    "import pandas as pd\n",
    "from sklearn.utils import shuffle\n",
    "from sklearn.preprocessing import LabelEncoder\n",
    "from sklearn.model_selection import train_test_split\n",
    "from sklearn.model_selection import KFold\n",
    "from sklearn.naive_bayes import MultinomialNB\n",
    "\n",
    "from scipy.interpolate import make_interp_spline"
   ]
  },
  {
   "cell_type": "code",
   "execution_count": 94,
   "metadata": {},
   "outputs": [],
   "source": [
    "def load_data():\n",
    "    path = \"./data/iris.data\"\n",
    "    df = pd.read_fwf(path, header = None)\n",
    "    df = df[0].str.split(',',expand = True)\n",
    "    return df"
   ]
  },
  {
   "cell_type": "code",
   "execution_count": 95,
   "metadata": {},
   "outputs": [],
   "source": [
    "def draw(df):\n",
    "    for i in range(4):\n",
    "        print(\"Feature {}:\".format(i))\n",
    "        print(\"Total:\")\n",
    "        freq = df[i].value_counts().sort_index()\n",
    "        figure = freq.plot()\n",
    "        figure.set_xlim(freq.index[0], freq.index[-1])\n",
    "        plt.show()\n",
    "        \n",
    "        \n",
    "        print(\"Label is \\\"Iris-setosa\\\":\")\n",
    "        df_I_s = df[(df[4] == \"Iris-setosa\")]\n",
    "        freq_I_s = df_I_s[i].value_counts().sort_index()\n",
    "        figure_I_s = freq_I_s.plot()\n",
    "        figure_I_s.set_xlim(freq[0], freq[-1])\n",
    "        plt.show()\n",
    "        \n",
    "        print(\"Label is \\\"Iris-versicolor\\\":\")\n",
    "        df_I_ve = df[(df[4] == \"Iris-versicolor\")]\n",
    "        freq_I_ve = df_I_ve[i].value_counts().sort_index()\n",
    "        figure_I_ve = freq_I_ve.plot()\n",
    "        figure_I_ve.set_xlim(freq[0], freq[-1])\n",
    "        plt.show()\n",
    "        \n",
    "        print(\"Label is \\\"Iris-virginica\\\":\")\n",
    "        df_I_vi = df[(df[4] == \"Iris-virginica\")]\n",
    "        freq_I_vi = df_I_vi[i].value_counts().sort_index()\n",
    "        figure_I_vi = freq_I_vi.plot()\n",
    "        figure_I_vi.set_xlim(freq[0], freq[-1])\n",
    "        plt.show()"
   ]
  },
  {
   "cell_type": "code",
   "execution_count": 103,
   "metadata": {},
   "outputs": [
    {
     "name": "stdout",
     "output_type": "stream",
     "text": [
      "4.3     1\n",
      "4.4     3\n",
      "4.5     1\n",
      "4.6     4\n",
      "4.7     2\n",
      "4.8     5\n",
      "4.9     6\n",
      "5.0    10\n",
      "5.1     9\n",
      "5.2     4\n",
      "5.3     1\n",
      "5.4     6\n",
      "5.5     7\n",
      "5.6     6\n",
      "5.7     8\n",
      "5.8     7\n",
      "5.9     3\n",
      "6.0     6\n",
      "6.1     6\n",
      "6.2     4\n",
      "6.3     9\n",
      "6.4     7\n",
      "6.5     5\n",
      "6.6     2\n",
      "6.7     8\n",
      "6.8     3\n",
      "6.9     4\n",
      "7.0     1\n",
      "7.1     1\n",
      "7.2     3\n",
      "7.3     1\n",
      "7.4     1\n",
      "7.6     1\n",
      "7.7     4\n",
      "7.9     1\n",
      "Name: 0, dtype: int64\n",
      "4.3\n"
     ]
    }
   ],
   "source": [
    "df = load_data()\n",
    "#draw(df)\n",
    "freq = df[0].value_counts().sort_index()\n",
    "print(freq)\n",
    "print(freq.index[0])"
   ]
  },
  {
   "cell_type": "markdown",
   "metadata": {},
   "source": []
  }
 ],
 "metadata": {
  "kernelspec": {
   "display_name": "Python 3",
   "language": "python",
   "name": "python3"
  },
  "language_info": {
   "codemirror_mode": {
    "name": "ipython",
    "version": 3
   },
   "file_extension": ".py",
   "mimetype": "text/x-python",
   "name": "python",
   "nbconvert_exporter": "python",
   "pygments_lexer": "ipython3",
   "version": "3.7.3"
  }
 },
 "nbformat": 4,
 "nbformat_minor": 2
}
