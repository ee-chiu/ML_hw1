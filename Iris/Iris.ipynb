{
 "cells": [
  {
   "cell_type": "code",
   "execution_count": 115,
   "metadata": {},
   "outputs": [],
   "source": [
    "import numpy as np\n",
    "import matplotlib.pyplot as plt\n",
    "import pandas as pd\n",
    "from sklearn.utils import shuffle\n",
    "from sklearn.preprocessing import LabelEncoder\n",
    "from sklearn.model_selection import train_test_split\n",
    "from sklearn.model_selection import KFold\n",
    "from sklearn.naive_bayes import GaussianNB\n",
    "\n",
    "from sklearn.metrics import accuracy_score\n",
    "from sklearn.metrics import recall_score\n",
    "from sklearn.metrics import precision_score\n",
    "from sklearn.metrics import confusion_matrix\n",
    "\n",
    "import prettytable as pt"
   ]
  },
  {
   "cell_type": "code",
   "execution_count": 116,
   "metadata": {},
   "outputs": [],
   "source": [
    "def load_data():\n",
    "    path = \"./data/iris.data\"\n",
    "    df = pd.read_fwf(path, header = None)\n",
    "    df = df[0].str.split(',',expand = True)\n",
    "    df.iloc[ : , : 4] = df.iloc[ : , : 4].astype(float)\n",
    "    return df"
   ]
  },
  {
   "cell_type": "code",
   "execution_count": 117,
   "metadata": {},
   "outputs": [],
   "source": [
    "def label_encoding(y):\n",
    "    labelencoder = LabelEncoder()\n",
    "    y = labelencoder.fit_transform(y)\n",
    "    return y"
   ]
  },
  {
   "cell_type": "code",
   "execution_count": 118,
   "metadata": {},
   "outputs": [],
   "source": [
    "def draw_Avg(df):\n",
    "    avg = df.iloc[ : , : 4].mean()\n",
    "    colors = ['red', 'green', 'blue', 'pink']\n",
    "    feature = [\"sepal length in cm\", \"sepal width in cm\", \"petal length in cm\", \"petal width in cm\"]\n",
    "    index = ['0', '1', '2', '3']\n",
    "    \n",
    "    x = range(4)\n",
    "    for i in range(4):\n",
    "        plt.bar(index[i], avg[i], color = colors[i], label = feature[i])\n",
    "    \n",
    "    plt.title(\"Average\")\n",
    "    plt.legend()\n",
    "    plt.show()"
   ]
  },
  {
   "cell_type": "code",
   "execution_count": 119,
   "metadata": {},
   "outputs": [],
   "source": [
    "def draw_Std(df):\n",
    "    Std = df.iloc[ : , : 4].std()\n",
    "    colors = ['red', 'green', 'blue', 'pink']\n",
    "    feature = [\"sepal length in cm\", \"sepal width in cm\", \"petal length in cm\", \"petal width in cm\"]\n",
    "    index = ['0', '1', '2', '3']\n",
    "    \n",
    "    x = range(4)\n",
    "    for i in range(4):\n",
    "        plt.bar(index[i], Std[i], color = colors[i], label = feature[i])\n",
    "    \n",
    "    plt.title(\"Standard Deviation\")\n",
    "    plt.legend()\n",
    "    plt.show()"
   ]
  },
  {
   "cell_type": "code",
   "execution_count": 120,
   "metadata": {},
   "outputs": [],
   "source": [
    "def draw_ValueCount(df):\n",
    "    for i in range(4):\n",
    "        feature = [\"sepal length in cm\", \"sepal width in cm\", \"petal length in cm\", \"petal width in cm\"]\n",
    "        \n",
    "        print(\"Feature \\\"{}\\\":\".format(feature[i]))\n",
    "        \n",
    "        freq = df[i].value_counts().sort_index()\n",
    "        freq.plot.hist()\n",
    "        plt.title(\"Value Count (Total)\")\n",
    "        plt.show()\n",
    "        \n",
    "        df_I_s = df[(df[4] == \"Iris-setosa\")]\n",
    "        freq_I_s = df_I_s[i].value_counts().sort_index()\n",
    "        freq_I_s.plot.hist()\n",
    "        plt.title(\"Value Count (Label is \\\"Iris-setosa\\\")\")\n",
    "        plt.show()\n",
    "        \n",
    "        print(\":\")\n",
    "        df_I_ve = df[(df[4] == \"Iris-versicolor\")]\n",
    "        freq_I_ve = df_I_ve[i].value_counts().sort_index()\n",
    "        freq_I_ve.plot.hist()\n",
    "        plt.title(\"Value Count (Label is \\\"Iris-versicolor\\\")\")\n",
    "        plt.show()\n",
    "        \n",
    "        df_I_vi = df[(df[4] == \"Iris-virginica\")]\n",
    "        freq_I_vi = df_I_vi[i].value_counts().sort_index()\n",
    "        freq_I_vi.plot.hist()\n",
    "        plt.title(\"Value Count (Label is \\\"Iris-virginica\\\")\")\n",
    "        plt.show()"
   ]
  },
  {
   "cell_type": "code",
   "execution_count": 121,
   "metadata": {},
   "outputs": [],
   "source": [
    "def Gaussian(X_train, X_test, y_train, y_test):\n",
    "    model = GaussianNB()\n",
    "    model.fit(X_train, y_train)\n",
    "    y_pred = model.predict(X_test)\n",
    "    return y_pred"
   ]
  },
  {
   "cell_type": "code",
   "execution_count": 122,
   "metadata": {},
   "outputs": [],
   "source": [
    "def holdout_validation(X, y):\n",
    "    X_train, X_test, y_train, y_test = train_test_split(X, y, test_size = 0.3) \n",
    "    y_pred = Gaussian(X_train, X_test, y_train, y_test)\n",
    "    c_m = confusion_matrix(y_test, y_pred)\n",
    "    a_s = accuracy_score(y_test, y_pred) \n",
    "    r_s = recall_score(y_test, y_pred, average = 'macro')\n",
    "    p_s = precision_score(y_test, y_pred, average = 'macro')\n",
    "    h_list = [\"Holdout\", c_m, a_s, r_s, p_s]\n",
    "    return h_list"
   ]
  },
  {
   "cell_type": "code",
   "execution_count": 123,
   "metadata": {},
   "outputs": [],
   "source": [
    "def k_fold(X, y):\n",
    "    k = 3\n",
    "    kf = KFold(n_splits = k)\n",
    "    \n",
    "    total_c_m, total_a_s, total_r_s, total_p_s = np.array([[0, 0, 0], [0, 0, 0], [0, 0, 0]]), np.array([]), np.array([]), np.array([])\n",
    "\n",
    "    for train_index, test_index in kf.split(X):\n",
    "        X_train, X_test, y_train, y_test = X[train_index], X[test_index], y[train_index], y[test_index]\n",
    "        \n",
    "        y_pred = Gaussian(X_train, X_test, y_train, y_test)\n",
    "        c_m = confusion_matrix(y_test, y_pred)\n",
    "        a_s = accuracy_score(y_test, y_pred) \n",
    "        r_s = recall_score(y_test, y_pred, average = 'macro')\n",
    "        p_s = precision_score(y_test, y_pred, average = 'macro')\n",
    "        \n",
    "        total_c_m = total_c_m + c_m\n",
    "        total_a_s = np.append(total_a_s, a_s)\n",
    "        total_r_s = np.append(total_r_s, r_s)\n",
    "        total_p_s = np.append(total_p_s, p_s)\n",
    "        \n",
    "    avg_c_m = total_c_m / k\n",
    "    avg_a_s = np.mean(total_a_s)\n",
    "    avg_r_s = np.mean(total_r_s)\n",
    "    avg_p_s = np.mean(total_p_s)\n",
    "\n",
    "    k_list = [\"K-fold\", avg_c_m, avg_a_s, avg_r_s, avg_p_s]\n",
    "\n",
    "    return k_list"
   ]
  },
  {
   "cell_type": "code",
   "execution_count": 124,
   "metadata": {},
   "outputs": [
    {
     "name": "stdout",
     "output_type": "stream",
     "text": [
      "+---------+-----------------------------------------+--------------------+---------------------+--------------------+\n",
      "|  Method |             Confusion Matrix            |      Accuracy      | Sensitivity(Recall) |     Precision      |\n",
      "+---------+-----------------------------------------+--------------------+---------------------+--------------------+\n",
      "| Holdout |               [[11  0  0]               | 0.9333333333333333 |  0.9380116959064327 | 0.9428571428571427 |\n",
      "|         |                [ 0 18  1]               |                    |                     |                    |\n",
      "|         |                [ 0  2 13]]              |                    |                     |                    |\n",
      "|  K-fold |  [[16.66666667  0.          0.        ] | 0.9533333333333333 |  0.9537918871252203 | 0.9520969498910675 |\n",
      "|         |   [ 0.         15.33333333  1.33333333] |                    |                     |                    |\n",
      "|         |  [ 0.          1.         15.66666667]] |                    |                     |                    |\n",
      "+---------+-----------------------------------------+--------------------+---------------------+--------------------+\n"
     ]
    }
   ],
   "source": [
    "df = load_data()\n",
    "df = shuffle(df) #index也洗了（在data裡一定有至少一筆相同的資料，但index不一定是原本的index）\n",
    "X = df.drop(columns=[4]) #把feature提取出來\n",
    "y = df[4] #label \n",
    "X = X.to_numpy()\n",
    "y = label_encoding(y) #already array type\n",
    "\n",
    "h_list = holdout_validation(X, y)\n",
    "k_list = k_fold(X, y)\n",
    "\n",
    "table = pt.PrettyTable()\n",
    "table.field_names = [\"Method\", \"Confusion Matrix\", \"Accuracy\", \"Sensitivity(Recall)\", \"Precision\"]\n",
    "table.add_row(h_list)\n",
    "table.add_row(k_list)\n",
    "print(table)\n"
   ]
  },
  {
   "cell_type": "code",
   "execution_count": 125,
   "metadata": {},
   "outputs": [],
   "source": [
    "draw_Avg(df)\n",
    "draw_Std(df)\n",
    "draw_ValueCount(df)"
   ]
  },
  {
   "cell_type": "markdown",
   "metadata": {},
   "source": []
  }
 ],
 "metadata": {
  "kernelspec": {
   "display_name": "Python 3",
   "language": "python",
   "name": "python3"
  },
  "language_info": {
   "codemirror_mode": {
    "name": "ipython",
    "version": 3
   },
   "file_extension": ".py",
   "mimetype": "text/x-python",
   "name": "python",
   "nbconvert_exporter": "python",
   "pygments_lexer": "ipython3",
   "version": "3.7.3"
  }
 },
 "nbformat": 4,
 "nbformat_minor": 4
}
