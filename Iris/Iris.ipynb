{
 "cells": [
  {
   "cell_type": "code",
   "execution_count": null,
   "metadata": {},
   "outputs": [],
   "source": [
    "import numpy as np\n",
    "import matplotlib.pyplot as plt\n",
    "import pandas as pd\n",
    "from sklearn.utils import shuffle\n",
    "from sklearn.preprocessing import LabelEncoder\n",
    "from sklearn.model_selection import train_test_split\n",
    "from sklearn.model_selection import KFold\n",
    "from sklearn.naive_bayes import MultinomialNB\n",
    "\n",
    "from scipy.interpolate import make_interp_spline"
   ]
  },
  {
   "cell_type": "code",
   "execution_count": null,
   "metadata": {},
   "outputs": [],
   "source": [
    "def load_data():\n",
    "    path = \"./data/iris.data\"\n",
    "    df = pd.read_fwf(path, header = None)\n",
    "    df = df[0].str.split(',',expand = True)\n",
    "    df.iloc[ : , : 4] = df.iloc[ : , : 4].astype(float)\n",
    "    return df"
   ]
  },
  {
   "cell_type": "code",
   "execution_count": null,
   "metadata": {},
   "outputs": [],
   "source": [
    "def draw_Avg(df):\n",
    "    avg = df.iloc[ : , : 4].mean()\n",
    "    colors = ['red', 'green', 'blue', 'pink']\n",
    "    feature = [\"sepal length in cm\", \"sepal width in cm\", \"petal length in cm\", \"petal width in cm\"]\n",
    "    index = ['0', '1', '2', '3']\n",
    "    \n",
    "    x = range(4)\n",
    "    for i in range(4):\n",
    "        plt.bar(index[i], avg[i], color = colors[i], label = feature[i])\n",
    "    \n",
    "    plt.title(\"Average\")\n",
    "    plt.legend()\n",
    "    plt.show()"
   ]
  },
  {
   "cell_type": "code",
   "execution_count": null,
   "metadata": {},
   "outputs": [],
   "source": [
    "def draw_Std(df):\n",
    "    Std = df.iloc[ : , : 4].std()\n",
    "    colors = ['red', 'green', 'blue', 'pink']\n",
    "    feature = [\"sepal length in cm\", \"sepal width in cm\", \"petal length in cm\", \"petal width in cm\"]\n",
    "    index = ['0', '1', '2', '3']\n",
    "    \n",
    "    x = range(4)\n",
    "    for i in range(4):\n",
    "        plt.bar(index[i], Std[i], color = colors[i], label = feature[i])\n",
    "    \n",
    "    plt.title(\"Standard Deviation\")\n",
    "    plt.legend()\n",
    "    plt.show()"
   ]
  },
  {
   "cell_type": "code",
   "execution_count": null,
   "metadata": {},
   "outputs": [],
   "source": [
    "def draw_ValueCount(df):\n",
    "    for i in range(4):\n",
    "        feature = [\"sepal length in cm\", \"sepal width in cm\", \"petal length in cm\", \"petal width in cm\"]\n",
    "        \n",
    "        print(\"Feature \\\"{}\\\":\".format(feature[i]))\n",
    "        \n",
    "        freq = df[i].value_counts().sort_index()\n",
    "        freq.plot.hist()\n",
    "        plt.title(\"Value Count (Total)\")\n",
    "        plt.show()\n",
    "        \n",
    "        df_I_s = df[(df[4] == \"Iris-setosa\")]\n",
    "        freq_I_s = df_I_s[i].value_counts().sort_index()\n",
    "        freq_I_s.plot.hist()\n",
    "        plt.title(\"Value Count (Label is \\\"Iris-setosa\\\")\")\n",
    "        plt.show()\n",
    "        \n",
    "        print(\":\")\n",
    "        df_I_ve = df[(df[4] == \"Iris-versicolor\")]\n",
    "        freq_I_ve = df_I_ve[i].value_counts().sort_index()\n",
    "        freq_I_ve.plot.hist()\n",
    "        plt.title(\"Value Count (Label is \\\"Iris-versicolor\\\")\")\n",
    "        plt.show()\n",
    "        \n",
    "        df_I_vi = df[(df[4] == \"Iris-virginica\")]\n",
    "        freq_I_vi = df_I_vi[i].value_counts().sort_index()\n",
    "        freq_I_vi.plot.hist()\n",
    "        plt.title(\"Value Count (Label is \\\"Iris-virginica\\\")\")\n",
    "        plt.show()"
   ]
  },
  {
   "cell_type": "code",
   "execution_count": null,
   "metadata": {},
   "outputs": [],
   "source": [
    "df = load_data()\n",
    "draw_Avg(df)\n",
    "draw_Std(df)\n",
    "draw_ValueCount(df)"
   ]
  },
  {
   "cell_type": "markdown",
   "metadata": {},
   "source": []
  }
 ],
 "metadata": {
  "kernelspec": {
   "display_name": "Python 3",
   "language": "python",
   "name": "python3"
  },
  "language_info": {
   "codemirror_mode": {
    "name": "ipython",
    "version": 3
   },
   "file_extension": ".py",
   "mimetype": "text/x-python",
   "name": "python",
   "nbconvert_exporter": "python",
   "pygments_lexer": "ipython3",
   "version": "3.7.3"
  }
 },
 "nbformat": 4,
 "nbformat_minor": 2
}
