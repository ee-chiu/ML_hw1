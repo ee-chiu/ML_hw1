{
 "cells": [
  {
   "cell_type": "code",
   "execution_count": 139,
   "metadata": {},
   "outputs": [],
   "source": [
    "import numpy as np\n",
    "import matplotlib.pyplot as plt\n",
    "import pandas as pd\n",
    "from sklearn.utils import shuffle\n",
    "from sklearn.preprocessing import LabelEncoder\n",
    "from sklearn.model_selection import train_test_split\n",
    "from sklearn.model_selection import KFold\n",
    "from sklearn.naive_bayes import MultinomialNB\n",
    "\n",
    "from sklearn.metrics import accuracy_score\n",
    "from sklearn.metrics import recall_score\n",
    "from sklearn.metrics import precision_score\n",
    "from sklearn.metrics import confusion_matrix\n",
    "\n",
    "import prettytable as pt"
   ]
  },
  {
   "cell_type": "code",
   "execution_count": 140,
   "metadata": {},
   "outputs": [],
   "source": [
    "def load_data():\n",
    "    path = \"./data/agaricus-lepiota.data\"\n",
    "    df = pd.read_fwf(path, header = None)\n",
    "    df = df[0].str.split(',',expand = True)\n",
    "    bad = df.isin(['?']).any()\n",
    "    for i in range(23):\n",
    "        if bad[i] == True:\n",
    "            df = df.drop([i], axis = 1)\n",
    "    return df"
   ]
  },
  {
   "cell_type": "code",
   "execution_count": 141,
   "metadata": {},
   "outputs": [],
   "source": [
    "def getCount(indeices, freq_target):\n",
    "    count = dict()\n",
    "\n",
    "    for index in indeices:\n",
    "        count[index] = 0\n",
    "        \n",
    "    for index in freq_target.index.tolist():\n",
    "        count[index] = freq_target[index]\n",
    "        \n",
    "    return count"
   ]
  },
  {
   "cell_type": "code",
   "execution_count": 142,
   "metadata": {},
   "outputs": [],
   "source": [
    "def draw(df):\n",
    "    features = [\"\", \"cap-shape\", \"cap-surface\", \"cap-color\", \"bruises?\", \"odor\", \"gill-attachment\", \"gill-spacing\", \"gill-size\", \"gill-color\", \"stalk-shape\", \"stalk-root\", \"stalk-surface-above-ring\", \"stalk-surface-below-ring\", \"stalk-color-above-ring\", \"stalk-color-below-ring\", \"veil-type\", \"veil-color\", \"ring-number\", \"ring-type\", \"spore-print-color\", \"population\", \"habitat\"]\n",
    "    colors = ['red', 'green', 'blue', 'pink', 'black']\n",
    "    \n",
    "    for i in range(1, 23, 1):\n",
    "        if i == 11:\n",
    "            continue\n",
    "            \n",
    "        print(\"Feature {}:\".format(i))\n",
    "        freq = df[i].value_counts()\n",
    "        \n",
    "        if features[i] == \"veil-type\":\n",
    "            add = pd.Series([0], index=['u'])\n",
    "            freq = freq.append(add)\n",
    "            \n",
    "        count = freq.to_dict()\n",
    "\n",
    "        plt.bar(*zip(*count.items()), color = colors[i % len(colors)], label = features[i])\n",
    "        plt.title(\"Value Count (Total)\")\n",
    "        plt.legend()\n",
    "        plt.show()\n",
    "        \n",
    "        indeices = freq.index.tolist()\n",
    "        \n",
    "        df_e = df[(df[0] == 'e')]\n",
    "        freq_e = df_e[i].value_counts()\n",
    "        e_count = getCount(indeices, freq_e)\n",
    "        plt.bar(*zip(*e_count.items()), color = colors[i % len(colors)], label = features[i])\n",
    "        plt.title(\"Value Count (Label is 'e')\")\n",
    "        plt.legend()\n",
    "        plt.show()\n",
    "        \n",
    "        df_p = df[(df[0] == 'p')]\n",
    "        freq_p = df_p[i].value_counts()\n",
    "        p_count = getCount(indeices, freq_p)\n",
    "        plt.bar(*zip(*p_count.items()), color = colors[i % len(colors)], label = features[i])\n",
    "        plt.title(\"Value Count (Label is 'p')\")\n",
    "        plt.legend()\n",
    "        plt.show()"
   ]
  },
  {
   "cell_type": "code",
   "execution_count": 143,
   "metadata": {},
   "outputs": [],
   "source": [
    "def label_encoding(y):\n",
    "    labelencoder = LabelEncoder()\n",
    "    y = labelencoder.fit_transform(y)\n",
    "    return y"
   ]
  },
  {
   "cell_type": "code",
   "execution_count": 144,
   "metadata": {},
   "outputs": [],
   "source": [
    "def with_Laplace_smoothing(X_train, X_test, y_train, y_test):\n",
    "    model = MultinomialNB()\n",
    "    model.fit(X_train, y_train)\n",
    "    return model"
   ]
  },
  {
   "cell_type": "code",
   "execution_count": 145,
   "metadata": {},
   "outputs": [],
   "source": [
    "def without_Laplace_smoothing(X_train, X_test, y_train, y_test):\n",
    "    model = MultinomialNB(alpha = 1.0e-10)\n",
    "    model.fit(X_train, y_train)\n",
    "    return model"
   ]
  },
  {
   "cell_type": "code",
   "execution_count": 146,
   "metadata": {},
   "outputs": [],
   "source": [
    "def holdout_validation(X, y):\n",
    "    X_train, X_test, y_train, y_test = train_test_split(X, y, test_size = 0.3) \n",
    "    \n",
    "    with_L_model = with_Laplace_smoothing(X_train, X_test, y_train, y_test)\n",
    "    with_L_y_pred = with_L_model.predict(X_test)\n",
    "    with_L_c_m = confusion_matrix(y_test, with_L_y_pred)\n",
    "    with_L_a_s = accuracy_score(y_test, with_L_y_pred) \n",
    "    with_L_r_s = recall_score(y_test, with_L_y_pred, average = 'binary')\n",
    "    with_L_p_s = precision_score(y_test, with_L_y_pred, average = 'binary')\n",
    "    h_with_L_list = [\"Holdout with Smoothing\", with_L_c_m, with_L_a_s, with_L_r_s, with_L_p_s]\n",
    "    \n",
    "    without_L_model = without_Laplace_smoothing(X_train, X_test, y_train, y_test)\n",
    "    without_L_y_pred = without_L_model.predict(X_test)\n",
    "    without_L_c_m = confusion_matrix(y_test, without_L_y_pred)\n",
    "    without_L_a_s = accuracy_score(y_test, without_L_y_pred) \n",
    "    without_L_r_s = recall_score(y_test, without_L_y_pred, average = 'binary')\n",
    "    without_L_p_s = precision_score(y_test, without_L_y_pred, average = 'binary')\n",
    "    h_without_L_list = [\"Holdout without Smoothing\", without_L_c_m, without_L_a_s, without_L_r_s, without_L_p_s]\n",
    "    return h_with_L_list, h_without_L_list"
   ]
  },
  {
   "cell_type": "code",
   "execution_count": 147,
   "metadata": {},
   "outputs": [],
   "source": [
    "def k_fold(X, y):\n",
    "    k = 3\n",
    "    kf = KFold(n_splits = k)\n",
    "    \n",
    "    total_with_L_c_m, total_with_L_a_s, total_with_L_r_s, total_with_L_p_s = np.array([[0, 0], [0, 0]]), np.array([]), np.array([]), np.array([])\n",
    "    total_without_L_c_m, total_without_L_a_s, total_without_L_r_s, total_without_L_p_s = np.array([[0, 0], [0, 0]]), np.array([]), np.array([]), np.array([])\n",
    "\n",
    "    for train_index, test_index in kf.split(X):\n",
    "        X_train, X_test, y_train, y_test = X[train_index], X[test_index], y[train_index], y[test_index]\n",
    "        \n",
    "        with_L_model = with_Laplace_smoothing(X_train, X_test, y_train, y_test)\n",
    "        with_L_y_pred = with_L_model.predict(X_test)\n",
    "        with_L_c_m = confusion_matrix(y_test, with_L_y_pred)\n",
    "        with_L_a_s = accuracy_score(y_test, with_L_y_pred) \n",
    "        with_L_r_s = recall_score(y_test, with_L_y_pred, average = 'binary')\n",
    "        with_L_p_s = precision_score(y_test, with_L_y_pred, average = 'binary')\n",
    "        total_with_L_c_m = total_with_L_c_m + with_L_c_m\n",
    "        total_with_L_a_s = np.append(total_with_L_a_s, with_L_a_s)\n",
    "        total_with_L_r_s = np.append(total_with_L_r_s, with_L_r_s)\n",
    "        total_with_L_p_s = np.append(total_with_L_p_s, with_L_p_s)\n",
    "        \n",
    "        without_L_model = without_Laplace_smoothing(X_train, X_test, y_train, y_test)\n",
    "        without_L_y_pred = without_L_model.predict(X_test)\n",
    "        without_L_c_m = confusion_matrix(y_test, without_L_y_pred)\n",
    "        without_L_a_s = accuracy_score(y_test, without_L_y_pred) \n",
    "        without_L_r_s = recall_score(y_test, without_L_y_pred, average = 'binary')\n",
    "        without_L_p_s = precision_score(y_test, without_L_y_pred, average = 'binary')\n",
    "        total_without_L_c_m = total_without_L_c_m + with_L_c_m\n",
    "        total_without_L_a_s = np.append(total_without_L_a_s, without_L_a_s)\n",
    "        total_without_L_r_s = np.append(total_without_L_r_s, without_L_r_s)\n",
    "        total_without_L_p_s = np.append(total_without_L_p_s, without_L_p_s)\n",
    "        \n",
    "    avg_with_L_c_m = total_with_L_c_m / k\n",
    "    avg_with_L_a_s = np.mean(total_with_L_a_s)\n",
    "    avg_with_L_r_s = np.mean(total_with_L_r_s)\n",
    "    avg_with_L_p_s = np.mean(total_with_L_p_s)\n",
    "\n",
    "    avg_without_L_c_m = total_without_L_c_m / k\n",
    "    avg_without_L_a_s = np.mean(total_without_L_a_s)\n",
    "    avg_without_L_r_s = np.mean(total_without_L_r_s)\n",
    "    avg_without_L_p_s = np.mean(total_without_L_p_s)\n",
    "    \n",
    "    k_with_L_list = [\"K-fold with Smoothing\", avg_with_L_c_m, avg_with_L_a_s, avg_with_L_r_s, avg_with_L_p_s]\n",
    "    k_without_L_list = [\"K-fold without Smoothing\", avg_without_L_c_m, avg_without_L_a_s, avg_without_L_r_s, avg_without_L_p_s]\n",
    "\n",
    "    return k_with_L_list, k_without_L_list"
   ]
  },
  {
   "cell_type": "code",
   "execution_count": 148,
   "metadata": {},
   "outputs": [],
   "source": [
    "def draw_question(df):\n",
    "    X = df[(df[0] == 'e')]\n",
    "    freq = X[15].value_counts(normalize = True)\n",
    "    freq.plot.bar(rot = 0)\n",
    "    plt.title(\"Without Smoothing\")\n",
    "    plt.show()\n",
    "    return"
   ]
  },
  {
   "cell_type": "code",
   "execution_count": 149,
   "metadata": {},
   "outputs": [
    {
     "name": "stdout",
     "output_type": "stream",
     "text": [
      "+---------------------------+---------------------------------+--------------------+---------------------+--------------------+\n",
      "|           Method          |         Confusion Matrix        |      Accuracy      | Sensitivity(Recall) |     Precision      |\n",
      "+---------------------------+---------------------------------+--------------------+---------------------+--------------------+\n",
      "|   Holdout with Smoothing  |           [[1264    6]          | 0.9663658736669402 |  0.934931506849315  | 0.994535519125683  |\n",
      "|                           |           [  76 1092]]          |                    |                     |                    |\n",
      "| Holdout without Smoothing |           [[1264    6]          | 0.9971287940935193 |  0.9991438356164384 | 0.9948849104859335 |\n",
      "|                           |           [   1 1167]]          |                    |                     |                    |\n",
      "|   K-fold with Smoothing   |  [[1395.            7.66666667] | 0.9585179714426392 |  0.9197949358642843 | 0.9937005984896717 |\n",
      "|                           |  [ 104.66666667 1200.66666667]] |                    |                     |                    |\n",
      "|  K-fold without Smoothing |  [[1395.            7.66666667] | 0.9969226981782372 |  0.9992338777222051 | 0.9944280049818719 |\n",
      "|                           |  [ 104.66666667 1200.66666667]] |                    |                     |                    |\n",
      "+---------------------------+---------------------------------+--------------------+---------------------+--------------------+\n"
     ]
    }
   ],
   "source": [
    "df = load_data()\n",
    "df = shuffle(df) #index也洗了（在data裡一定有至少一筆相同的資料，但index不一定是原本的index）\n",
    "X = df.drop(columns=[0]) #把feature提取出來\n",
    "y = df[0] #label \n",
    "X = pd.get_dummies(X) #onehot encoding\n",
    "y = label_encoding(y) #already array type\n",
    "X = X.to_numpy() #to array type\n",
    "\n",
    "h_with_L_list, h_without_L_list = holdout_validation(X, y)\n",
    "k_with_L_list, k_without_L_list = k_fold(X, y)\n",
    "\n",
    "table = pt.PrettyTable()\n",
    "table.field_names = [\"Method\", \"Confusion Matrix\", \"Accuracy\", \"Sensitivity(Recall)\", \"Precision\"]\n",
    "table.add_row(h_with_L_list)\n",
    "table.add_row(h_without_L_list)\n",
    "table.add_row(k_with_L_list)\n",
    "table.add_row(k_without_L_list)\n",
    "\n",
    "print(table)"
   ]
  },
  {
   "cell_type": "code",
   "execution_count": 150,
   "metadata": {},
   "outputs": [],
   "source": [
    "#draw(df)"
   ]
  },
  {
   "cell_type": "code",
   "execution_count": 151,
   "metadata": {},
   "outputs": [
    {
     "data": {
      "image/png": "[encoded data removed]",
      "text/plain": [
       "<Figure size 432x288 with 1 Axes>"
      ]
     },
     "metadata": {
      "needs_background": "light"
     },
     "output_type": "display_data"
    }
   ],
   "source": [
    "draw_question(df)"
   ]
  }
 ],
 "metadata": {
  "kernelspec": {
   "display_name": "Python 3",
   "language": "python",
   "name": "python3"
  },
  "language_info": {
   "codemirror_mode": {
    "name": "ipython",
    "version": 3
   },
   "file_extension": ".py",
   "mimetype": "text/x-python",
   "name": "python",
   "nbconvert_exporter": "python",
   "pygments_lexer": "ipython3",
   "version": "3.7.3"
  }
 },
 "nbformat": 4,
 "nbformat_minor": 4
}
